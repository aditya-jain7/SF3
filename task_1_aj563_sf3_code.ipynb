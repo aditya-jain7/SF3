{
 "metadata": {
  "language_info": {
   "codemirror_mode": {
    "name": "ipython",
    "version": 3
   },
   "file_extension": ".py",
   "mimetype": "text/x-python",
   "name": "python",
   "nbconvert_exporter": "python",
   "pygments_lexer": "ipython3",
   "version": "3.7.4"
  },
  "orig_nbformat": 2,
  "kernelspec": {
   "name": "python374jvsc74a57bd06743eeced479ae0c8f906247d820cf49be8b50048b444e6801968e548db9e6b4",
   "display_name": "Python 3.7.4 64-bit ('base': conda)"
  }
 },
 "nbformat": 4,
 "nbformat_minor": 2,
 "cells": [
  {
   "source": [
    "# Task 1"
   ],
   "cell_type": "markdown",
   "metadata": {}
  },
  {
   "source": [
    "## Task 1.1"
   ],
   "cell_type": "markdown",
   "metadata": {}
  },
  {
   "cell_type": "code",
   "execution_count": 2,
   "metadata": {},
   "outputs": [],
   "source": [
    "import numpy as np\n",
    "from CartPole import *\n",
    "from sklearn import linear_model"
   ]
  },
  {
   "cell_type": "code",
   "execution_count": 3,
   "metadata": {},
   "outputs": [],
   "source": [
    "    def start_the_cart(initial_values1, initial_values2=None, initial_values3=None, steps=10, remap_angle=False, visual=False, display_plots=True, variable = None):\n",
    "\n",
    "        cp = CartPole(visual=visual)\n",
    "        cp.cart_location, cp.cart_velocity, cp.pole_angle, cp.pole_velocity = initial_values1\n",
    "        \n",
    "        \n",
    "\n",
    "        for step in range(steps):\n",
    "            if visual: \n",
    "                cp.drawPlot()\n",
    "            cp.performAction()\n",
    "            if remap_angle: \n",
    "                cp.remap_angle()\n",
    "            inter= [cp.cart_location, cp.cart_velocity, cp.pole_angle, cp.pole_velocity]\n",
    "            try: \n",
    "                x_history = np.vstack((x_history, np.array(inter)))\n",
    "            except:\n",
    "                x_history = np.vstack((np.array(initial_values1),np.array(inter)))\n",
    "        \n",
    "\n",
    "        \n",
    "        x_axis=range(len(x_history))\n",
    "        \n",
    "        if initial_values2:\n",
    "            cp.cart_location, cp.cart_velocity, cp.pole_angle, cp.pole_velocity = initial_values2\n",
    "        \n",
    "           \n",
    "\n",
    "            for step in range(steps):\n",
    "                if visual: cp.drawPlot()\n",
    "                cp.performAction()\n",
    "                if remap_angle: cp.remap_angle()\n",
    "                inter= [cp.cart_location, cp.cart_velocity, cp.pole_angle, cp.pole_velocity]\n",
    "                try: \n",
    "                    y_history = np.vstack((y_history, np.array(inter)))\n",
    "                except:\n",
    "                    y_history = np.vstack((np.array(initial_values2),np.array(inter)))\n",
    "        \n",
    "        if initial_values3:\n",
    "            cp.cart_location, cp.cart_velocity, cp.pole_angle, cp.pole_velocity = initial_values3\n",
    "        \n",
    "            \n",
    "\n",
    "            for step in range(steps):\n",
    "                if visual: cp.drawPlot()\n",
    "                cp.performAction()\n",
    "                if remap_angle: cp.remap_angle()\n",
    "                inter= [cp.cart_location, cp.cart_velocity, cp.pole_angle, cp.pole_velocity]\n",
    "                try: \n",
    "                    z_history = np.vstack((z_history, np.array(inter)))\n",
    "                except:\n",
    "                    z_history = np.vstack((np.array(initial_values3),np.array(inter)))\n",
    "        \n",
    "        if display_plots:\n",
    "            fig, axs = plt.subplots(2, 2, figsize=(10, 7))\n",
    "\n",
    "            axs[0,0].plot(x_axis, [x[0] for x in x_history],label='First')\n",
    "            if initial_values2: axs[0,0].plot(x_axis, [x[0] for x in y_history],label='Second')\n",
    "            if initial_values3: axs[0,0].plot(x_axis, [x[0] for x in z_history],label='Third')\n",
    "\n",
    "            axs[0,1].plot(x_axis, [x[1] for x in x_history])\n",
    "            if initial_values2: axs[0,1].plot(x_axis, [x[1] for x in y_history])\n",
    "            if initial_values3: axs[0,1].plot(x_axis, [x[1] for x in z_history])\n",
    "           \n",
    "            axs[1,0].plot(x_axis, [x[2] for x in x_history])\n",
    "            if initial_values2: axs[1,0].plot(x_axis, [x[2] for x in y_history])\n",
    "            if initial_values3: axs[1,0].plot(x_axis, [x[2] for x in z_history])\n",
    "            \n",
    "            axs[1,1].plot(x_axis, [x[3] for x in x_history])\n",
    "            if initial_values2: axs[1,1].plot(x_axis, [x[3] for x in y_history])\n",
    "            if initial_values3: axs[1,1].plot(x_axis, [x[3] for x in z_history])\n",
    "            \n",
    "            #Set titles\n",
    "            axs[0,0].set_title('Cart location')\n",
    "            axs[0,0].set_xlabel('Steps')\n",
    "            axs[0,0].set_ylabel('x')\n",
    "\n",
    "            axs[0,1].set_title('Cart velocity')\n",
    "            axs[0,1].set_xlabel('Steps')\n",
    "            axs[0,1].set_ylabel('x_dot')\n",
    "\n",
    "\n",
    "            axs[1,0].set_title('Pole angle')\n",
    "            axs[1,0].set_xlabel('Steps')\n",
    "            axs[1,0].set_ylabel('theta')\n",
    "\n",
    "            axs[1,1].set_title('Pole velocity')\n",
    "            axs[1,1].set_xlabel('Steps')\n",
    "            axs[1,1].set_ylabel('theta_dot')\n",
    "\n",
    "            if variable: fig.suptitle(('Effect of different initial {} on cart dynamics').format(variable),fontsize=16)\n",
    "\n",
    "            fig.legend()\n",
    "            fig.tight_layout()\n",
    "        \n",
    "        \n",
    "        return x_history[-1]"
   ]
  },
  {
   "source": [
    "### Stable equilibrium"
   ],
   "cell_type": "markdown",
   "metadata": {}
  },
  {
   "cell_type": "code",
   "execution_count": 4,
   "metadata": {},
   "outputs": [],
   "source": [
    "#history = start_the_cart([0,0,np.pi,1],[0,0,np.pi,5],[0,0,np.pi,10],visual=False,remap_angle=False,variable = 'Pole Velocity')\n"
   ]
  },
  {
   "source": [
    "### Complete rotation of pendulum"
   ],
   "cell_type": "markdown",
   "metadata": {}
  },
  {
   "cell_type": "code",
   "execution_count": 5,
   "metadata": {},
   "outputs": [],
   "source": [
    "#history = start_the_cart([0,0,np.pi,15],visual=False,remap_angle=False)"
   ]
  },
  {
   "source": [
    "## Task 1.2"
   ],
   "cell_type": "markdown",
   "metadata": {}
  },
  {
   "cell_type": "code",
   "execution_count": 6,
   "metadata": {},
   "outputs": [],
   "source": [
    "initialize = np.array([np.random.uniform(-5,5), np.random.uniform(-10, 10), np.random.uniform(-np.pi,np.pi), np.random.uniform(-15,15)])\n",
    "#print(initialize)"
   ]
  },
  {
   "cell_type": "code",
   "execution_count": 7,
   "metadata": {},
   "outputs": [],
   "source": [
    "variable_number={0:'Cart location',1:'Cart velocity',2:'Pole angle',3:'Pole velocity'}"
   ]
  },
  {
   "cell_type": "code",
   "execution_count": 8,
   "metadata": {},
   "outputs": [],
   "source": [
    "def one_step(variable, x_axis_range, x_axis_intervals):\n",
    "    \n",
    "    \n",
    "    \n",
    "    x = initialize.copy()\n",
    "    x_axis = np.linspace(x_axis_range[0],x_axis_range[1], x_axis_intervals)\n",
    "    steps=1\n",
    "    for i in x_axis:\n",
    "        x[variable] = i\n",
    "        y = start_the_cart(x, steps=steps, display_plots=False)\n",
    "\n",
    "        try: \n",
    "            final_y = np.vstack((final_y, np.array(y)))\n",
    "        except:\n",
    "            final_y = np.array(y)\n",
    "\n",
    "    fig, axs = plt.subplots(2, 2, figsize=(10, 7))\n",
    "    axs[0,0].plot(x_axis, [y[0] for y in final_y])\n",
    "    \n",
    "    axs[0,1].plot(x_axis, [y[1] for y in final_y])\n",
    "   \n",
    "    axs[1,0].plot(x_axis, [y[2] for y in final_y])\n",
    "    \n",
    "    axs[1,1].plot(x_axis, [y[3] for y in final_y])\n",
    "    \n",
    "\n",
    "    #Set titles\n",
    "            \n",
    "    axs[0,0].set_xlabel('Initial value of {}'.format(variable_number[variable]))\n",
    "    axs[0,0].set_ylabel('Cart location')\n",
    "\n",
    "    \n",
    "    axs[0,1].set_xlabel('Initial value of {}'.format(variable_number[variable]))\n",
    "    axs[0,1].set_ylabel('Cart velocity')\n",
    "\n",
    "    \n",
    "    axs[1,0].set_xlabel('Initial value of {}'.format(variable_number[variable]))\n",
    "    axs[1,0].set_ylabel('Pole angle')\n",
    "\n",
    "    \n",
    "    axs[1,1].set_xlabel('Initial value of {}'.format(variable_number[variable]))\n",
    "    axs[1,1].set_ylabel('Pole velocity')\n",
    "\n",
    "    fig.suptitle(('Effect of initial {} on cart dynamics after {} step'.format(variable_number[variable],steps)),fontsize=16)\n",
    "\n",
    "    fig.tight_layout()"
   ]
  },
  {
   "source": [
    "### Vary cart location\n"
   ],
   "cell_type": "markdown",
   "metadata": {}
  },
  {
   "cell_type": "code",
   "execution_count": 9,
   "metadata": {},
   "outputs": [],
   "source": [
    "#one_step(0,[-5,5],15)"
   ]
  },
  {
   "source": [
    "### Vary cart velocity"
   ],
   "cell_type": "markdown",
   "metadata": {}
  },
  {
   "cell_type": "code",
   "execution_count": 10,
   "metadata": {},
   "outputs": [],
   "source": [
    "#one_step(1,[-10,10],15)"
   ]
  },
  {
   "source": [
    "### Vary pole angle"
   ],
   "cell_type": "markdown",
   "metadata": {}
  },
  {
   "cell_type": "code",
   "execution_count": 11,
   "metadata": {},
   "outputs": [],
   "source": [
    "#one_step(2,[-np.pi,np.pi],15)"
   ]
  },
  {
   "source": [
    "### Vary pole velocity"
   ],
   "cell_type": "markdown",
   "metadata": {}
  },
  {
   "cell_type": "code",
   "execution_count": 12,
   "metadata": {},
   "outputs": [],
   "source": [
    "#one_step(3,[-15,15],15)"
   ]
  },
  {
   "source": [
    "### Creating a variable \"y\", the difference between x"
   ],
   "cell_type": "markdown",
   "metadata": {}
  },
  {
   "cell_type": "code",
   "execution_count": 13,
   "metadata": {},
   "outputs": [],
   "source": [
    "def one_step_difference(variable, x_axis_range, x_axis_intervals):\n",
    "\n",
    "    x = initialize.copy()\n",
    "    x_axis = np.linspace(x_axis_range[0],x_axis_range[1], x_axis_intervals)\n",
    "    steps=1\n",
    "    for i in x_axis:\n",
    "        x[variable] = i\n",
    "        x_t = start_the_cart(x, steps=steps, display_plots=False)\n",
    "        y = x_t-x\n",
    "        \n",
    "        try: \n",
    "            final_y = np.vstack((final_y, np.array(y)))\n",
    "        except:\n",
    "            final_y = np.array(y)\n",
    "   \n",
    "\n",
    "    fig, axs = plt.subplots(2, 2, figsize=(10, 7))\n",
    "    axs[0,0].plot(x_axis, [y[0] for y in final_y])\n",
    "    \n",
    "    axs[0,1].plot(x_axis, [y[1] for y in final_y])\n",
    "\n",
    "    axs[1,0].plot(x_axis, [y[2] for y in final_y])\n",
    "    \n",
    "    axs[1,1].plot(x_axis, [y[3] for y in final_y])\n",
    "    \n",
    "\n",
    "    #Set titles\n",
    "            \n",
    "    axs[0,0].set_xlabel('Initial value of {}'.format(variable_number[variable]))\n",
    "    axs[0,0].set_ylabel('Cart location change')\n",
    "\n",
    "    \n",
    "    axs[0,1].set_xlabel('Initial value of {}'.format(variable_number[variable]))\n",
    "    axs[0,1].set_ylabel('Cart velocity change')\n",
    "\n",
    "    \n",
    "    axs[1,0].set_xlabel('Initial value of {}'.format(variable_number[variable]))\n",
    "    axs[1,0].set_ylabel('Pole angle change')\n",
    "\n",
    "    \n",
    "    axs[1,1].set_xlabel('Initial value of {}'.format(variable_number[variable]))\n",
    "    axs[1,1].set_ylabel('Pole velocity change')\n",
    "\n",
    "    fig.suptitle(('Effect of initial {} on cart dynamics after {} step'.format(variable_number[variable],steps)),fontsize=16)\n",
    "\n",
    "    fig.tight_layout()\n",
    "\n",
    "    return final_y"
   ]
  },
  {
   "cell_type": "code",
   "execution_count": 14,
   "metadata": {},
   "outputs": [],
   "source": [
    "def one_step_difference_2(variable, x_axis_range, x_axis_intervals):\n",
    "\n",
    "    x = initialize.copy()\n",
    "    x_axis = np.linspace(x_axis_range[0],x_axis_range[1], x_axis_intervals)\n",
    "    steps=1\n",
    "    for i in x_axis:\n",
    "        x[variable] = i\n",
    "        x_t = start_the_cart(x, steps=steps, display_plots=False,remap_angle=True)\n",
    "        y = x_t-x\n",
    "        \n",
    "        try: \n",
    "            final_y = np.vstack((final_y, np.array(y)))\n",
    "        except:\n",
    "            final_y = np.array(y)\n",
    "\n",
    "\n",
    "    return x_axis, final_y"
   ]
  },
  {
   "cell_type": "code",
   "execution_count": 15,
   "metadata": {},
   "outputs": [],
   "source": [
    "def together_plot_1_2():\n",
    "    x_axis1, c_l_real = one_step_difference_2(0,[-5,5],15)\n",
    "    x_axis2,c_v_real = one_step_difference_2(1,[-10,10],15)\n",
    "    x_axis3,p_a_real = one_step_difference_2(2,[-np.pi,np.pi],15)\n",
    "    x_axis4,p_v_real = one_step_difference_2(3,[-15,15],15)\n",
    "\n",
    "    fig, axs = plt.subplots(2, 2, figsize=(15, 12))\n",
    "    for i in range(4):\n",
    "        axs[0,0].plot(x_axis1, [y[i] for y in c_l_real],label='{}'.format(variable_number[i]))\n",
    "    \n",
    "        \n",
    "        \n",
    "        \n",
    "        axs[0,1].plot(x_axis2, [y[i] for y in c_v_real],label='Real c_v')\n",
    "  \n",
    "\n",
    "        axs[1,0].plot(x_axis3, [y[i] for y in p_a_real],label='Real p_a')\n",
    "     \n",
    "        \n",
    "        axs[1,1].plot(x_axis4, [y[i] for y in p_v_real],label='Real p_v')\n",
    "  \n",
    "\n",
    "        \n",
    "        axs[0,0].legend()\n",
    "\n",
    "\n",
    "    axs[0,0].set_xlabel('Initial value of cart location')\n",
    "    axs[0,0].set_ylabel('Cart dynamics changes')\n",
    "\n",
    "    axs[0,1].set_xlabel('Initial value of cart velocity')\n",
    "    axs[0,1].set_ylabel('Cart dynamics changes')\n",
    "\n",
    "    axs[1,0].set_xlabel('Initial value of pole angle')\n",
    "    axs[1,0].set_ylabel('Cart dynamics changes')\n",
    "\n",
    "    axs[1,1].set_xlabel('Initial value of pole velocity')\n",
    "    axs[1,1].set_ylabel('Cart dynamics changes')\n",
    "\n",
    "    fig.tight_layout()\n",
    "        \n",
    "    plt.show()"
   ]
  },
  {
   "source": [
    "### (i) Scans of single relationships"
   ],
   "cell_type": "markdown",
   "metadata": {}
  },
  {
   "cell_type": "code",
   "execution_count": 16,
   "metadata": {},
   "outputs": [],
   "source": [
    "#together_plot_1_2()"
   ]
  },
  {
   "source": [
    "### (ii) Contour plots"
   ],
   "cell_type": "markdown",
   "metadata": {}
  },
  {
   "cell_type": "code",
   "execution_count": 17,
   "metadata": {},
   "outputs": [],
   "source": [
    "different_pairs = [[0,1],[0,2],[0,3],[1,2],[1,3],[2,3]]\n",
    "axes_ranges = {0 : np.linspace(-5,5,10), 1 : np.linspace(-10,10,10), 2 : np.linspace(-np.pi,np.pi,10), 3 : np.linspace(-15,15,10)}\n",
    "\n",
    "def axes_for_pairs(index_pair):\n",
    "    range_of_variables = []\n",
    "    for index in index_pair:\n",
    "        range_of_variables.append(axes_ranges[index])\n",
    "    return range_of_variables\n",
    "\n",
    "def contours_of_pairs(index_pair, range_of_variables):\n",
    "  \n",
    "   \n",
    "    index_1, index_2 = index_pair\n",
    "    range_1, range_2 = range_of_variables\n",
    "    \n",
    "    initial_grid = np.zeros((len(range_1),len(range_2),4))\n",
    "    final_grid = np.zeros((len(range_1),len(range_2),4))\n",
    "    \n",
    "    for i,value_1 in enumerate(range_1):\n",
    "        for j, value_2 in enumerate(range_2):\n",
    "            x = initialize.copy()\n",
    "            x[index_1] = value_1\n",
    "            x[index_2] = value_2\n",
    "            initial_grid[i,j] = x\n",
    "            final_grid[i,j] = np.array(start_the_cart(x, steps=1, display_plots=False))\n",
    "                            \n",
    "    y_grid = final_grid - initial_grid\n",
    "    y_grid = np.moveaxis(y_grid, -1, 0)   \n",
    "    \n",
    "    fig, axs = plt.subplots(2, 2, figsize=(12, 9))\n",
    "    \n",
    "    axs[0,0].contourf(range_1, range_2, y_grid[0].T, vmin=y_grid.min(), vmax=y_grid.max())\n",
    "    axs[0,0].set_title('cart_location')\n",
    "    axs[0,0].set_xlabel('{} initial value'.format(variable_number[index_1]))\n",
    "    axs[0,0].set_ylabel('{} initial value'.format(variable_number[index_2]))   \n",
    "\n",
    "    axs[0,1].contourf(range_1, range_2, y_grid[1].T, vmin=y_grid.min(), vmax=y_grid.max())\n",
    "    axs[0,1].set_title('cart_velocity')\n",
    "    axs[0,1].set_xlabel('{} initial value'.format(variable_number[index_1]))\n",
    "    axs[0,1].set_ylabel('{} initial value'.format(variable_number[index_2]))\n",
    "\n",
    "    axs[1,0].contourf(range_1, range_2, y_grid[2].T, vmin=y_grid.min(), vmax=y_grid.max())\n",
    "    axs[1,0].set_title('pole_angle')\n",
    "    axs[1,0].set_xlabel('{} initial value'.format(variable_number[index_1]))\n",
    "    axs[1,0].set_ylabel('{} initial value'.format(variable_number[index_2]))\n",
    "\n",
    "    axs[1,1].contourf(range_1, range_2, y_grid[3].T, vmin=y_grid.min(), vmax=y_grid.max())\n",
    "    axs[1,1].set_title('pole_velocity')\n",
    "    axs[1,1].set_xlabel('{} initial value'.format(variable_number[index_1]))\n",
    "    axs[1,1].set_ylabel('{} initial value'.format(variable_number[index_2]))\n",
    "    \n",
    "    fig.tight_layout()"
   ]
  },
  {
   "cell_type": "code",
   "execution_count": 18,
   "metadata": {},
   "outputs": [
    {
     "output_type": "execute_result",
     "data": {
      "text/plain": [
       "\"\\nfor indices in different_pairs:\\n     print('Plots of {} and {}'.format(variable_number[indices[0]],variable_number[indices[1]]))\\n     contours_of_pairs(indices, axes_for_pairs(indices))\\n     plt.show()\\n\""
      ]
     },
     "metadata": {},
     "execution_count": 18
    }
   ],
   "source": [
    "\"\"\"\n",
    "for indices in different_pairs:\n",
    "     print('Plots of {} and {}'.format(variable_number[indices[0]],variable_number[indices[1]]))\n",
    "     contours_of_pairs(indices, axes_for_pairs(indices))\n",
    "     plt.show()\n",
    "\"\"\"  "
   ]
  },
  {
   "source": [
    "## Task 1.3"
   ],
   "cell_type": "markdown",
   "metadata": {}
  },
  {
   "cell_type": "code",
   "execution_count": 19,
   "metadata": {},
   "outputs": [],
   "source": [
    "def get_xy_pairs(n):\n",
    "    \n",
    "    for iteration in range(n):\n",
    "        random_point= np.array([np.random.uniform(-5,5), np.random.uniform(-10, 10), np.random.uniform(-np.pi,np.pi), np.random.uniform(-15,15)])\n",
    "        y = start_the_cart(random_point,steps=1, remap_angle=True,display_plots=False)\n",
    "        try: \n",
    "            final_y = np.vstack((final_y, np.array(y)))\n",
    "            final_x = np.vstack((final_x, np.array(random_point)))\n",
    "        except:\n",
    "            final_y = np.array(y)\n",
    "            final_x = np.array(random_point)\n",
    "        \n",
    "\n",
    "    return final_x,final_y-final_x"
   ]
  },
  {
   "cell_type": "code",
   "execution_count": 49,
   "metadata": {},
   "outputs": [
    {
     "output_type": "execute_result",
     "data": {
      "text/plain": [
       "(array([[ -4.1398558 ,   1.66083162,   1.75117516, -10.12420276],\n",
       "        [ -2.83376676,   7.44180233,  -2.40181226,  -3.12844675],\n",
       "        [ -4.61829202,  -3.9542255 ,  -3.04986162, -14.48938614],\n",
       "        [ -0.94728987,   3.70980193,  -1.08979061,   0.96186109],\n",
       "        [  1.02474147,  -2.61851518,   2.26386622,   1.02336792]]),\n",
       " array([[ 0.48260906,  1.02218371, -1.49096794,  4.63917802],\n",
       "        [ 1.42443017, -0.41357027,  5.28934347, -2.32035156],\n",
       "        [-0.50378364,  2.79922827,  3.89717093,  5.33277846],\n",
       "        [ 0.76668755,  0.11890486, -0.38624469, -5.69677817],\n",
       "        [-0.46265225,  0.62550758,  0.70486308,  4.3876079 ]]))"
      ]
     },
     "metadata": {},
     "execution_count": 49
    }
   ],
   "source": [
    "x,y= get_xy_pairs(500)\n",
    "get_xy_pairs(5)"
   ]
  },
  {
   "cell_type": "code",
   "execution_count": 21,
   "metadata": {},
   "outputs": [],
   "source": [
    "#Create train and test sets\n",
    "proportion = 0.95\n",
    "number_of_samples = 500\n",
    "cutoff = int(proportion*number_of_samples)\n",
    "train_x= x[:cutoff]\n",
    "test_x=x[cutoff:]\n",
    "\n",
    "train_y=y[:cutoff]\n",
    "test_y=y[cutoff:]\n"
   ]
  },
  {
   "cell_type": "code",
   "execution_count": 22,
   "metadata": {},
   "outputs": [],
   "source": [
    "model = linear_model.LinearRegression()\n",
    "model.fit(train_x,train_y)\n",
    "n=model.predict(test_x)"
   ]
  },
  {
   "cell_type": "code",
   "execution_count": 23,
   "metadata": {},
   "outputs": [],
   "source": [
    "def predict(train_x, test_x, train_y):\n",
    "    W = np.matmul(np.linalg.pinv(train_x),train_y)\n",
    "    prediction = np.matmul(test_x,W)\n",
    "    return prediction,W\n",
    "    \n"
   ]
  },
  {
   "cell_type": "code",
   "execution_count": 48,
   "metadata": {},
   "outputs": [
    {
     "output_type": "stream",
     "name": "stdout",
     "text": [
      "<class 'numpy.ndarray'>\n"
     ]
    }
   ],
   "source": [
    "m,W = predict(train_x, test_x, train_y)\n"
   ]
  },
  {
   "source": [
    "### First plot. Real and predicted plotted against initial"
   ],
   "cell_type": "markdown",
   "metadata": {}
  },
  {
   "cell_type": "code",
   "execution_count": 25,
   "metadata": {},
   "outputs": [],
   "source": [
    "def vertical_plot(input,next_step,pred_next_step):\n",
    "\n",
    "    fig, axs = plt.subplots(2, 2, figsize=(10, 7))\n",
    "\n",
    "    axs[0,0].scatter([x[0] for x in input],[y[0] for y in next_step],label='Real value')\n",
    "    axs[0,0].scatter([x[0] for x in input],[y[0] for y in pred_next_step],label='Predicted Value')\n",
    "    axs[0,0].set_xlabel('Cart location initial value')\n",
    "    axs[0,0].set_ylabel('Cart location final value')\n",
    "    axs[0,0].legend()\n",
    "\n",
    "    axs[0,1].scatter([x[1] for x in input],[y[1] for y in next_step])\n",
    "    axs[0,1].scatter([x[1] for x in input],[y[1] for y in pred_next_step])\n",
    "    axs[0,1].set_xlabel('Cart velocity initial value')\n",
    "    axs[0,1].set_ylabel('Cart velocity final value')\n",
    "\n",
    "    axs[1,0].scatter([x[2] for x in input],[y[2] for y in next_step])\n",
    "    axs[1,0].scatter([x[2] for x in input],[y[2] for y in pred_next_step])\n",
    "    axs[1,0].set_xlabel('Pole angle initial value')\n",
    "    axs[1,0].set_ylabel('Pole angle final value')\n",
    "\n",
    "    axs[1,1].scatter([x[3] for x in input],[y[3] for y in next_step])\n",
    "    axs[1,1].scatter([x[3] for x in input],[y[3] for y in pred_next_step])\n",
    "    axs[1,1].set_xlabel('Pole velocity initial value')\n",
    "    axs[1,1].set_ylabel('Pole velocity final value')\n",
    "\n",
    "    fig.suptitle('Predictions vs Real values after 1 step plotted against various initial values')\n",
    "    fig.tight_layout()"
   ]
  },
  {
   "cell_type": "code",
   "execution_count": 26,
   "metadata": {},
   "outputs": [],
   "source": [
    "#vertical_plot(test_x,test_y+test_x,m+test_x)"
   ]
  },
  {
   "cell_type": "code",
   "execution_count": 27,
   "metadata": {},
   "outputs": [],
   "source": [
    "def rmse_calc(A,B):\n",
    "    squared = (A-B)**2\n",
    "    cl_mse =0\n",
    "    cv_mse=0\n",
    "    pa_mse=0\n",
    "    pv_mse=0\n",
    "    for row in squared:\n",
    "\n",
    "        cl_mse+=row[0]\n",
    "        cv_mse+=row[1]\n",
    "        pa_mse+=row[2]\n",
    "        pv_mse+=row[3]\n",
    "    cl_mse=(cl_mse/len(squared))**0.5\n",
    "    cv_mse=(cv_mse/len(squared))**0.5\n",
    "    pa_mse=(pa_mse/len(squared))**0.5\n",
    "    pv_mse=(pv_mse/len(squared))**0.5\n",
    "\n",
    "\n",
    "    return cl_mse,cv_mse,pa_mse,pv_mse"
   ]
  },
  {
   "cell_type": "code",
   "execution_count": 28,
   "metadata": {},
   "outputs": [
    {
     "output_type": "execute_result",
     "data": {
      "text/plain": [
       "(0.1218896689712427, 1.4247005021194976, 1.9741641811535695, 3.914248687855925)"
      ]
     },
     "metadata": {},
     "execution_count": 28
    }
   ],
   "source": [
    "rmse_calc(test_y,n)"
   ]
  },
  {
   "cell_type": "code",
   "execution_count": 29,
   "metadata": {},
   "outputs": [
    {
     "output_type": "execute_result",
     "data": {
      "text/plain": [
       "(0.12326298017103327,\n",
       " 1.4274718338213315,\n",
       " 1.9659041002157693,\n",
       " 3.9197065388950962)"
      ]
     },
     "metadata": {},
     "execution_count": 29
    }
   ],
   "source": [
    "rmse_calc(test_y,m)"
   ]
  },
  {
   "source": [
    "### second plot. This one is real vs predicted only"
   ],
   "cell_type": "markdown",
   "metadata": {}
  },
  {
   "cell_type": "code",
   "execution_count": 30,
   "metadata": {},
   "outputs": [],
   "source": [
    "def real_vs_predicted(real,predicted):\n",
    "    fig, axs = plt.subplots(2, 2, figsize=(10, 7))\n",
    "\n",
    "    axs[0,0].scatter([x[0] for x in real],[y[0] for y in predicted])\n",
    "   \n",
    "    axs[0,0].set_xlabel('Cart location real value')\n",
    "    axs[0,0].set_ylabel('Cart location predicted value')\n",
    "    \n",
    "\n",
    "    axs[0,1].scatter([x[1] for x in real],[y[1] for y in predicted])\n",
    "    axs[0,1].set_xlabel('Cart velocity real value')\n",
    "    axs[0,1].set_ylabel('Cart velocity predicted value')\n",
    "\n",
    "    axs[1,0].scatter([x[2] for x in real],[y[2] for y in predicted])\n",
    "    axs[1,0].set_xlabel('Pole angle real value')\n",
    "    axs[1,0].set_ylabel('Pole angle predicted value')\n",
    "\n",
    "    axs[1,1].scatter([x[3] for x in real],[y[3] for y in predicted])\n",
    "    axs[1,1].set_xlabel('Pole velocity real value')\n",
    "    axs[1,1].set_ylabel('Pole velocity predicted value')\n",
    "\n",
    "    fig.suptitle('Predictions vs Real values after 1 step')\n",
    "    fig.tight_layout()"
   ]
  },
  {
   "cell_type": "code",
   "execution_count": 31,
   "metadata": {},
   "outputs": [],
   "source": [
    "#real_vs_predicted(test_y+test_x,m+test_x)"
   ]
  },
  {
   "source": [
    "### Scans with varying parameters"
   ],
   "cell_type": "markdown",
   "metadata": {}
  },
  {
   "cell_type": "code",
   "execution_count": 32,
   "metadata": {},
   "outputs": [],
   "source": [
    "def one_step_difference_with_predictions_2(variable, x_axis_range, x_axis_intervals):\n",
    "    x = initialize.copy()\n",
    "    x_axis = np.linspace(x_axis_range[0],x_axis_range[1], x_axis_intervals)\n",
    "    steps=1\n",
    "\n",
    "    for i in x_axis:\n",
    "        x[variable] = i\n",
    "        x_t = start_the_cart(x, steps=steps, display_plots=False,remap_angle=True)\n",
    "        y = x_t-x\n",
    "        pred = model.predict([x])\n",
    "        try: \n",
    "            final_y = np.vstack((final_y, np.array(y)))\n",
    "            final_pred = np.vstack((final_pred,np.array(pred)))\n",
    "        except:\n",
    "            final_y = np.array(y)\n",
    "            final_pred = np.array(pred)\n",
    "\n",
    "\n",
    "\n",
    "    return x_axis,final_y,final_pred"
   ]
  },
  {
   "cell_type": "code",
   "execution_count": 33,
   "metadata": {},
   "outputs": [],
   "source": [
    "def together_plot():\n",
    "    x_axis1, c_l_real,c_l_pred = one_step_difference_with_predictions_2(0,[-5,5],15)\n",
    "    x_axis2,c_v_real,c_v_pred = one_step_difference_with_predictions_2(1,[-10,10],15)\n",
    "    x_axis3,p_a_real,p_a_pred = one_step_difference_with_predictions_2(2,[-np.pi,np.pi],15)\n",
    "    x_axis4,p_v_real,p_v_pred = one_step_difference_with_predictions_2(3,[-15,15],15)\n",
    "\n",
    "    fig, axs = plt.subplots(2, 2, figsize=(17, 11))\n",
    "    for i in range(4):\n",
    "        axs[0,0].plot(x_axis1, [y[i] for y in c_l_real],label='Real {}'.format(variable_number[i]))\n",
    "        axs[0,0].scatter(x_axis1, [y[i] for y in c_l_pred],label='Predicted {}'.format(variable_number[i]))\n",
    "        \n",
    "        \n",
    "        \n",
    "        axs[0,1].plot(x_axis2, [y[i] for y in c_v_real],label='Real c_v')\n",
    "        axs[0,1].scatter(x_axis2, [y[i] for y in c_v_pred],label='Predicted c_v')\n",
    "\n",
    "        axs[1,0].plot(x_axis3, [y[i] for y in p_a_real],label='Real p_a')\n",
    "        axs[1,0].scatter(x_axis3, [y[i] for y in p_a_pred],label='Predicted p_a')\n",
    "        \n",
    "        axs[1,1].plot(x_axis4, [y[i] for y in p_v_real],label='Real p_v')\n",
    "        axs[1,1].scatter(x_axis4, [y[i] for y in p_v_pred],label='Predicted p_v')\n",
    "\n",
    "        \n",
    "        axs[0,0].legend()\n",
    "\n",
    "\n",
    "    axs[0,0].set_xlabel('Initial value of cart location')\n",
    "    axs[0,0].set_ylabel('Cart dynamics changes')\n",
    "\n",
    "    axs[0,1].set_xlabel('Initial value of cart velocity')\n",
    "    axs[0,1].set_ylabel('Cart dynamics changes')\n",
    "\n",
    "    axs[1,0].set_xlabel('Initial value of pole angle')\n",
    "    axs[1,0].set_ylabel('Cart dynamics changes')\n",
    "\n",
    "    axs[1,1].set_xlabel('Initial value of pole velocity')\n",
    "    axs[1,1].set_ylabel('Cart dynamics changes')\n",
    "\n",
    "    fig.tight_layout()\n",
    "    \n",
    "        \n",
    "    plt.show()"
   ]
  },
  {
   "cell_type": "code",
   "execution_count": 34,
   "metadata": {},
   "outputs": [],
   "source": [
    "#together_plot()\n"
   ]
  },
  {
   "source": [
    "## Task 1.4"
   ],
   "cell_type": "markdown",
   "metadata": {}
  },
  {
   "cell_type": "code",
   "execution_count": 35,
   "metadata": {},
   "outputs": [],
   "source": [
    "def future_predictions_from_predictions(initial_conditions, time_steps,remap_angle=True):\n",
    "    final_y=np.array(initial_conditions)\n",
    "    final_pred=np.array(initial_conditions)\n",
    "\n",
    "    for i in range(time_steps):\n",
    "        real= start_the_cart(final_y[i], steps=1, display_plots=False,remap_angle=remap_angle)\n",
    "        pred = np.matmul(final_pred[i],W)\n",
    "        pred+=final_pred[i]\n",
    "\n",
    "         \n",
    "        final_y = np.vstack((final_y, np.array(real)))\n",
    "        final_pred = np.vstack((final_pred,np.array(pred)))\n",
    "\n",
    "    x_axis=np.linspace(0,time_steps,time_steps+1)\n",
    "    \n",
    "    fig, axs = plt.subplots(2, 2, figsize=(12, 10))\n",
    "    axs[0,0].plot(x_axis, [y[0] for y in final_y],label='Real value')\n",
    "    axs[0,0].plot(x_axis, [y[0] for y in final_pred],label='Predicted value')\n",
    "    axs[0,0].legend()\n",
    "    \n",
    "    axs[0,1].plot(x_axis, [y[1] for y in final_y])\n",
    "    axs[0,1].plot(x_axis, [y[1] for y in final_pred])\n",
    "\n",
    "    axs[1,0].plot(x_axis, [y[2] for y in final_y])\n",
    "    axs[1,0].plot(x_axis, [y[2] for y in final_pred])\n",
    "    \n",
    "    axs[1,1].plot(x_axis, [y[3] for y in final_y])\n",
    "    axs[1,1].plot(x_axis, [y[3] for y in final_pred])\n",
    "    \n",
    "\n",
    "    #Set titles\n",
    "            \n",
    "    axs[0,0].set_xlabel('Time steps')\n",
    "    axs[0,0].set_ylabel('Cart location')\n",
    "\n",
    "    \n",
    "    axs[0,1].set_xlabel('Time steps')\n",
    "    axs[0,1].set_ylabel('Cart velocity')\n",
    "\n",
    "    \n",
    "    axs[1,0].set_xlabel('Time steps')\n",
    "    axs[1,0].set_ylabel('Pole angle')\n",
    "\n",
    "    \n",
    "    axs[1,1].set_xlabel('Time steps')\n",
    "    axs[1,1].set_ylabel('Pole velocity')\n",
    "\n",
    "    fig.suptitle('Predicted (from predictions) vs Real change in cart dynamics over time with initial conditions {}'.format(initial_conditions),fontsize=16)\n",
    "\n",
    "    fig.tight_layout()\n",
    "\n",
    "    "
   ]
  },
  {
   "cell_type": "code",
   "execution_count": 36,
   "metadata": {},
   "outputs": [],
   "source": [
    "#future_predictions_from_predictions([[10,5,2,6]],10,remap_angle=True)"
   ]
  },
  {
   "cell_type": "code",
   "execution_count": 37,
   "metadata": {},
   "outputs": [],
   "source": [
    "#future_predictions_from_predictions([[0,0,np.pi,15]],10,remap_angle=True)"
   ]
  },
  {
   "cell_type": "code",
   "execution_count": 38,
   "metadata": {},
   "outputs": [],
   "source": [
    "def future_predictions_from_real(initial_conditions, time_steps,remap_angle=True):\n",
    "    final_y=np.array(initial_conditions)\n",
    "    final_pred=np.array(initial_conditions)\n",
    "\n",
    "    for i in range(time_steps):\n",
    "        real= start_the_cart(final_y[i], steps=1, display_plots=False,remap_angle=remap_angle)\n",
    "        pred = np.matmul(final_y[i],W)\n",
    "        pred+=final_y[i]\n",
    "\n",
    "         \n",
    "        final_y = np.vstack((final_y, np.array(real)))\n",
    "        final_pred = np.vstack((final_pred,np.array(pred)))\n",
    "\n",
    "    x_axis=np.linspace(0,time_steps,time_steps+1)\n",
    "    \n",
    "    fig, axs = plt.subplots(2, 2, figsize=(12, 10))\n",
    "    axs[0,0].plot(x_axis, [y[0] for y in final_y],label='Real value')\n",
    "    axs[0,0].plot(x_axis, [y[0] for y in final_pred],label='Predicted value')\n",
    "    axs[0,0].legend()\n",
    "    \n",
    "    axs[0,1].plot(x_axis, [y[1] for y in final_y])\n",
    "    axs[0,1].plot(x_axis, [y[1] for y in final_pred])\n",
    "\n",
    "    axs[1,0].plot(x_axis, [y[2] for y in final_y])\n",
    "    axs[1,0].plot(x_axis, [y[2] for y in final_pred])\n",
    "    \n",
    "    axs[1,1].plot(x_axis, [y[3] for y in final_y])\n",
    "    axs[1,1].plot(x_axis, [y[3] for y in final_pred])\n",
    "    \n",
    "\n",
    "    #Set titles\n",
    "            \n",
    "    axs[0,0].set_xlabel('Time steps')\n",
    "    axs[0,0].set_ylabel('Cart location')\n",
    "\n",
    "    \n",
    "    axs[0,1].set_xlabel('Time steps')\n",
    "    axs[0,1].set_ylabel('Cart velocity')\n",
    "\n",
    "    \n",
    "    axs[1,0].set_xlabel('Time steps')\n",
    "    axs[1,0].set_ylabel('Pole angle')\n",
    "\n",
    "    \n",
    "    axs[1,1].set_xlabel('Time steps')\n",
    "    axs[1,1].set_ylabel('Pole velocity')\n",
    "\n",
    "    fig.suptitle('Predicted (from recent dynamics) vs Real change in cart dynamics over time with initial conditions {}'.format(initial_conditions),fontsize=16)\n",
    "\n",
    "    fig.tight_layout()"
   ]
  },
  {
   "cell_type": "code",
   "execution_count": 39,
   "metadata": {},
   "outputs": [],
   "source": [
    "#future_predictions_from_real([[10,5,2,6]],10,remap_angle=True)\n"
   ]
  },
  {
   "cell_type": "code",
   "execution_count": 40,
   "metadata": {},
   "outputs": [],
   "source": [
    "#future_predictions_from_real([[0,0,np.pi,15]],10,remap_angle=True)"
   ]
  },
  {
   "source": [
    "### Here I will train the model on non-remapped angle to see the effect"
   ],
   "cell_type": "markdown",
   "metadata": {}
  },
  {
   "cell_type": "code",
   "execution_count": 41,
   "metadata": {},
   "outputs": [],
   "source": [
    "def get_xy_pairs_2(n):\n",
    "    \n",
    "    for iteration in range(n):\n",
    "        random_point= np.array([np.random.uniform(-5,5), np.random.uniform(-10, 10), np.random.uniform(-np.pi,np.pi), np.random.uniform(-15,15)])\n",
    "        y = start_the_cart(random_point,steps=1, remap_angle=False,display_plots=False)\n",
    "        try: \n",
    "            final_y = np.vstack((final_y, np.array(y)))\n",
    "            final_x = np.vstack((final_x, np.array(random_point)))\n",
    "        except:\n",
    "            final_y = np.array(y)\n",
    "            final_x = np.array(random_point)\n",
    "        \n",
    "\n",
    "    return final_x,final_y-final_x"
   ]
  },
  {
   "cell_type": "code",
   "execution_count": 42,
   "metadata": {},
   "outputs": [],
   "source": [
    "x2,y2= get_xy_pairs_2(500)"
   ]
  },
  {
   "cell_type": "code",
   "execution_count": 43,
   "metadata": {},
   "outputs": [],
   "source": [
    "#Create train and test sets\n",
    "proportion = 0.95\n",
    "number_of_samples = 500\n",
    "cutoff = int(proportion*number_of_samples)\n",
    "train_x2= x2[:cutoff]\n",
    "test_x2=x2[cutoff:]\n",
    "\n",
    "train_y2=y2[:cutoff]\n",
    "test_y2=y2[cutoff:]\n"
   ]
  },
  {
   "cell_type": "code",
   "execution_count": 44,
   "metadata": {},
   "outputs": [],
   "source": [
    "r,B = predict(train_x2, test_x2, train_y2)"
   ]
  },
  {
   "cell_type": "code",
   "execution_count": 45,
   "metadata": {},
   "outputs": [
    {
     "output_type": "stream",
     "name": "stdout",
     "text": [
      "[[ 6.85606607e-04  1.59020731e-02  8.30766617e-04  2.05170886e-02]\n [ 1.99546781e-01 -6.40283379e-03 -5.63333422e-04 -7.28688112e-03]\n [ 4.07282341e-02  1.98941520e-01  1.61021142e-01  1.17140141e+00]\n [ 2.94630016e-03  2.02175196e-02  1.96367548e-01 -6.35480574e-02]]\n"
     ]
    }
   ],
   "source": [
    "print(B)"
   ]
  },
  {
   "cell_type": "code",
   "execution_count": 46,
   "metadata": {},
   "outputs": [
    {
     "output_type": "execute_result",
     "data": {
      "text/plain": [
       "array([-0.00753095+0.07481295j, -0.00753095-0.07481295j,\n",
       "       -0.16693927+0.j        , -0.89923697+0.j        ])"
      ]
     },
     "metadata": {},
     "execution_count": 46
    }
   ],
   "source": [
    "np.linalg.eigvals(W)\n"
   ]
  },
  {
   "cell_type": "code",
   "execution_count": 47,
   "metadata": {},
   "outputs": [
    {
     "output_type": "execute_result",
     "data": {
      "text/plain": [
       "array([ 0.54166431,  0.0477209 , -0.05313728, -0.44449207])"
      ]
     },
     "metadata": {},
     "execution_count": 47
    }
   ],
   "source": [
    "np.linalg.eigvals(B)"
   ]
  },
  {
   "source": [
    "# Task 2"
   ],
   "cell_type": "markdown",
   "metadata": {}
  },
  {
   "cell_type": "code",
   "execution_count": 51,
   "metadata": {},
   "outputs": [],
   "source": [
    "def kernel(x,x_dash,sigma):\n",
    "    final_power=0\n",
    "    for i in range(len(x)):\n",
    "        if i!=2: power1 = (x[i]-x_dash[i])**2\n",
    "        else: power1 = (np.sin((x[i]-x_dash[i])/2))**2\n",
    "        power2=power1/2*(sigma[i])**2\n",
    "        final_power+=power2\n",
    "\n",
    "    K = np.exp(-final_power)\n",
    "    return K"
   ]
  },
  {
   "source": [
    "### Now we create the K matrix"
   ],
   "cell_type": "markdown",
   "metadata": {}
  },
  {
   "cell_type": "code",
   "execution_count": 135,
   "metadata": {},
   "outputs": [],
   "source": [
    "def kernel_matrix(n,m,data):\n",
    "    assert n == len(data)\n",
    "    matrix = np.zeros((n,m))\n",
    "\n",
    "    #generate indices of m basis centers\n",
    "    m_indices =[]\n",
    "    while len(m_indices)<m:\n",
    "        add = int(np.random.uniform(0,n))\n",
    "        if add in m_indices:\n",
    "            continue\n",
    "        else:\n",
    "            m_indices.append(add)\n",
    "    for i in range(n):\n",
    "        for j in range(m): \n",
    "            matrix[i,j] = kernel(data[i],data[m_indices[j]],sigma)\n",
    "    return matrix, m_indices"
   ]
  },
  {
   "cell_type": "code",
   "execution_count": 195,
   "metadata": {},
   "outputs": [],
   "source": [
    "n=50\n",
    "m=10\n",
    "sigma=np.array([0.1,0.2,0.1,0.3])\n",
    "\n",
    "x,y = get_xy_pairs(n)\n"
   ]
  },
  {
   "cell_type": "code",
   "execution_count": 212,
   "metadata": {},
   "outputs": [],
   "source": [
    "knm = kernel_matrix(n,m,x)\n",
    "\n"
   ]
  },
  {
   "source": [
    "### First we try without data error (ie lambda)"
   ],
   "cell_type": "markdown",
   "metadata": {}
  },
  {
   "cell_type": "code",
   "execution_count": 197,
   "metadata": {},
   "outputs": [],
   "source": [
    "def get_alpha_lstsq(kernel,y):\n",
    "    alpha = np.array(np.linalg.lstsq(kernel[0],y[:,0],rcond=None)[0])\n",
    "    for i in range(3):\n",
    "        alpha = np.vstack((alpha,np.array(np.linalg.lstsq(kernel[0],y[:,i+1],rcond=None)[0])))\n",
    "    return alpha"
   ]
  },
  {
   "cell_type": "code",
   "execution_count": 199,
   "metadata": {},
   "outputs": [
    {
     "output_type": "execute_result",
     "data": {
      "text/plain": [
       "(4, 10)"
      ]
     },
     "metadata": {},
     "execution_count": 199
    }
   ],
   "source": [
    "get_alpha_lstsq(knm,y).shape"
   ]
  },
  {
   "source": [
    "### Now we try with lambda (essentially solve (Kmn*Knm +lambda*Kmm)alpha = Kmn*Y)"
   ],
   "cell_type": "markdown",
   "metadata": {}
  },
  {
   "cell_type": "code",
   "execution_count": 200,
   "metadata": {},
   "outputs": [],
   "source": [
    "def get_alpha_with_lambda(kernel_mat,x,y,lambd):\n",
    "    # get the Kmm matrix\n",
    "\n",
    "    for value in kernel_mat[1]:\n",
    "        try:\n",
    "            data = np.vstack((data,np.array(x[value])))\n",
    "        except:\n",
    "            data = np.array(x[value])\n",
    "\n",
    "    Kmm = kernel_matrix(m,m,data[:m])[0]\n",
    "\n",
    "    #Set up least squares\n",
    "    lhs = np.matmul(kernel_mat[0].T,kernel_mat[0]) + lambd*Kmm\n",
    "    \n",
    "    alpha = np.array(np.linalg.lstsq(lhs,np.matmul(kernel_mat[0].T,y[:,0]),rcond=None)[0])\n",
    "    for i in range(3):\n",
    "        rhs = np.matmul(kernel_mat[0].T,y[:,i+1])\n",
    "        alpha = np.vstack((alpha,np.array(np.linalg.lstsq(lhs,rhs,rcond=None)[0])))\n",
    "\n",
    "    return alpha\n"
   ]
  },
  {
   "cell_type": "code",
   "execution_count": 211,
   "metadata": {},
   "outputs": [
    {
     "output_type": "execute_result",
     "data": {
      "text/plain": [
       "array([[ 0.14995841,  1.30354298, -1.85819065, -1.52366915, -1.79292952,\n",
       "         0.28542439,  1.44617897,  1.5174037 , -1.02784234,  0.54439761],\n",
       "       [ 0.77455215,  0.47465935, -0.13234157,  2.1351045 ,  0.88713905,\n",
       "        -1.63523865,  0.24317848,  0.16890448, -1.58514463,  2.39324189],\n",
       "       [ 2.50189465, -0.83740365, -0.93507837, -0.46410091,  1.79868635,\n",
       "         8.10614458, -9.59039178,  7.93093252,  1.34138476, -0.19312433],\n",
       "       [-1.13237687,  3.527113  ,  0.86434694,  3.72002933,  3.09533967,\n",
       "        -1.05578337, -1.16212282, -0.85691822,  0.62710256,  2.59659061]])"
      ]
     },
     "metadata": {},
     "execution_count": 211
    }
   ],
   "source": [
    "get_alpha_with_lambda(knm,x,y,0.00001)"
   ]
  },
  {
   "cell_type": "code",
   "execution_count": null,
   "metadata": {},
   "outputs": [],
   "source": []
  }
 ]
}